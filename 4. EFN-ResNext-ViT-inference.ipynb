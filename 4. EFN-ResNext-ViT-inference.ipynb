{
 "cells": [
  {
   "cell_type": "markdown",
   "metadata": {
    "papermill": {
     "duration": 0.012229,
     "end_time": "2021-02-13T12:54:07.996298",
     "exception": false,
     "start_time": "2021-02-13T12:54:07.984069",
     "status": "completed"
    },
    "tags": []
   },
   "source": [
    "# Import Library"
   ]
  },
  {
   "cell_type": "code",
   "execution_count": 1,
   "metadata": {
    "execution": {
     "iopub.execute_input": "2021-02-13T12:54:08.031096Z",
     "iopub.status.busy": "2021-02-13T12:54:08.030472Z",
     "iopub.status.idle": "2021-02-13T12:54:38.917793Z",
     "shell.execute_reply": "2021-02-13T12:54:38.916749Z"
    },
    "papermill": {
     "duration": 30.910766,
     "end_time": "2021-02-13T12:54:38.917916",
     "exception": false,
     "start_time": "2021-02-13T12:54:08.007150",
     "status": "completed"
    },
    "tags": []
   },
   "outputs": [
    {
     "name": "stdout",
     "output_type": "stream",
     "text": [
      "Processing /kaggle/input/timmpackagelatestwhl/timm-0.3.4-py3-none-any.whl\r\n",
      "Requirement already satisfied: torch>=1.4 in /opt/conda/lib/python3.7/site-packages (from timm==0.3.4) (1.7.0)\r\n",
      "Requirement already satisfied: torchvision in /opt/conda/lib/python3.7/site-packages (from timm==0.3.4) (0.8.1)\r\n",
      "Requirement already satisfied: future in /opt/conda/lib/python3.7/site-packages (from torch>=1.4->timm==0.3.4) (0.18.2)\r\n",
      "Requirement already satisfied: typing_extensions in /opt/conda/lib/python3.7/site-packages (from torch>=1.4->timm==0.3.4) (3.7.4.1)\r\n",
      "Requirement already satisfied: dataclasses in /opt/conda/lib/python3.7/site-packages (from torch>=1.4->timm==0.3.4) (0.6)\r\n",
      "Requirement already satisfied: numpy in /opt/conda/lib/python3.7/site-packages (from torch>=1.4->timm==0.3.4) (1.18.5)\r\n",
      "Requirement already satisfied: numpy in /opt/conda/lib/python3.7/site-packages (from torch>=1.4->timm==0.3.4) (1.18.5)\r\n",
      "Requirement already satisfied: torch>=1.4 in /opt/conda/lib/python3.7/site-packages (from timm==0.3.4) (1.7.0)\r\n",
      "Requirement already satisfied: pillow>=4.1.1 in /opt/conda/lib/python3.7/site-packages (from torchvision->timm==0.3.4) (8.0.1)\r\n",
      "Installing collected packages: timm\r\n",
      "Successfully installed timm-0.3.4\r\n"
     ]
    }
   ],
   "source": [
    "from glob import glob\n",
    "from sklearn.model_selection import GroupKFold, StratifiedKFold\n",
    "import cv2\n",
    "from skimage import io\n",
    "import torch\n",
    "from torch import nn\n",
    "import os\n",
    "from datetime import datetime\n",
    "import time\n",
    "import random\n",
    "import cv2\n",
    "import torchvision\n",
    "from torchvision import transforms\n",
    "import pandas as pd\n",
    "import numpy as np\n",
    "from tqdm import tqdm\n",
    "\n",
    "import matplotlib.pyplot as plt\n",
    "from torch.utils.data import Dataset,DataLoader\n",
    "from  torch.cuda.amp import autocast, GradScaler\n",
    "\n",
    "import sklearn\n",
    "import joblib\n",
    "from sklearn.metrics import roc_auc_score, log_loss\n",
    "from sklearn import metrics\n",
    "import cv2\n",
    "from sklearn.metrics import log_loss\n",
    "\n",
    "!pip install ../input/timmpackagelatestwhl/timm-0.3.4-py3-none-any.whl\n",
    "import timm\n",
    "import warnings \n",
    "warnings.filterwarnings('ignore')"
   ]
  },
  {
   "cell_type": "markdown",
   "metadata": {
    "papermill": {
     "duration": 0.01185,
     "end_time": "2021-02-13T12:54:38.942721",
     "exception": false,
     "start_time": "2021-02-13T12:54:38.930871",
     "status": "completed"
    },
    "tags": []
   },
   "source": [
    "# CFG Setting"
   ]
  },
  {
   "cell_type": "code",
   "execution_count": 2,
   "metadata": {
    "execution": {
     "iopub.execute_input": "2021-02-13T12:54:38.973881Z",
     "iopub.status.busy": "2021-02-13T12:54:38.973346Z",
     "iopub.status.idle": "2021-02-13T12:54:38.982217Z",
     "shell.execute_reply": "2021-02-13T12:54:38.981810Z"
    },
    "papermill": {
     "duration": 0.027251,
     "end_time": "2021-02-13T12:54:38.982340",
     "exception": false,
     "start_time": "2021-02-13T12:54:38.955089",
     "status": "completed"
    },
    "tags": []
   },
   "outputs": [],
   "source": [
    "CFG = {\n",
    "    'seed': 719,\n",
    "    'model_arch': ['tf_efficientnet_b4_ns','resnext50_32x4d','vit_base_patch16_384'],\n",
    "    'weight_path': sorted(os.listdir('../input/cassava-ensemble-model')),\n",
    "    'img_size': 512,\n",
    "    'train_bs': 64,\n",
    "    'valid_bs': 64,\n",
    "    'lr': 1e-4,\n",
    "    'num_workers': 4,\n",
    "    'device': 'cuda',\n",
    "    'tta': 2,\n",
    "    'weights': [1,1,1,1,1,1]\n",
    "}"
   ]
  },
  {
   "cell_type": "markdown",
   "metadata": {
    "papermill": {
     "duration": 0.012002,
     "end_time": "2021-02-13T12:54:39.006718",
     "exception": false,
     "start_time": "2021-02-13T12:54:38.994716",
     "status": "completed"
    },
    "tags": []
   },
   "source": [
    "# Import Test Set"
   ]
  },
  {
   "cell_type": "code",
   "execution_count": 3,
   "metadata": {
    "execution": {
     "iopub.execute_input": "2021-02-13T12:54:39.037305Z",
     "iopub.status.busy": "2021-02-13T12:54:39.036771Z",
     "iopub.status.idle": "2021-02-13T12:54:39.076567Z",
     "shell.execute_reply": "2021-02-13T12:54:39.076986Z"
    },
    "papermill": {
     "duration": 0.057917,
     "end_time": "2021-02-13T12:54:39.077088",
     "exception": false,
     "start_time": "2021-02-13T12:54:39.019171",
     "status": "completed"
    },
    "tags": []
   },
   "outputs": [
    {
     "data": {
      "text/html": [
       "<div>\n",
       "<style scoped>\n",
       "    .dataframe tbody tr th:only-of-type {\n",
       "        vertical-align: middle;\n",
       "    }\n",
       "\n",
       "    .dataframe tbody tr th {\n",
       "        vertical-align: top;\n",
       "    }\n",
       "\n",
       "    .dataframe thead th {\n",
       "        text-align: right;\n",
       "    }\n",
       "</style>\n",
       "<table border=\"1\" class=\"dataframe\">\n",
       "  <thead>\n",
       "    <tr style=\"text-align: right;\">\n",
       "      <th></th>\n",
       "      <th>image_id</th>\n",
       "      <th>label</th>\n",
       "    </tr>\n",
       "  </thead>\n",
       "  <tbody>\n",
       "    <tr>\n",
       "      <th>0</th>\n",
       "      <td>1000015157.jpg</td>\n",
       "      <td>0</td>\n",
       "    </tr>\n",
       "    <tr>\n",
       "      <th>1</th>\n",
       "      <td>1000201771.jpg</td>\n",
       "      <td>3</td>\n",
       "    </tr>\n",
       "    <tr>\n",
       "      <th>2</th>\n",
       "      <td>100042118.jpg</td>\n",
       "      <td>1</td>\n",
       "    </tr>\n",
       "    <tr>\n",
       "      <th>3</th>\n",
       "      <td>1000723321.jpg</td>\n",
       "      <td>1</td>\n",
       "    </tr>\n",
       "    <tr>\n",
       "      <th>4</th>\n",
       "      <td>1000812911.jpg</td>\n",
       "      <td>3</td>\n",
       "    </tr>\n",
       "  </tbody>\n",
       "</table>\n",
       "</div>"
      ],
      "text/plain": [
       "         image_id  label\n",
       "0  1000015157.jpg      0\n",
       "1  1000201771.jpg      3\n",
       "2   100042118.jpg      1\n",
       "3  1000723321.jpg      1\n",
       "4  1000812911.jpg      3"
      ]
     },
     "execution_count": 3,
     "metadata": {},
     "output_type": "execute_result"
    }
   ],
   "source": [
    "train = pd.read_csv('../input/cassava-leaf-disease-classification/train.csv')\n",
    "train.head()"
   ]
  },
  {
   "cell_type": "markdown",
   "metadata": {
    "papermill": {
     "duration": 0.012539,
     "end_time": "2021-02-13T12:54:39.102625",
     "exception": false,
     "start_time": "2021-02-13T12:54:39.090086",
     "status": "completed"
    },
    "tags": []
   },
   "source": [
    "# Helper Functions"
   ]
  },
  {
   "cell_type": "code",
   "execution_count": 4,
   "metadata": {
    "execution": {
     "iopub.execute_input": "2021-02-13T12:54:39.135002Z",
     "iopub.status.busy": "2021-02-13T12:54:39.134338Z",
     "iopub.status.idle": "2021-02-13T12:54:39.137317Z",
     "shell.execute_reply": "2021-02-13T12:54:39.136886Z"
    },
    "papermill": {
     "duration": 0.021926,
     "end_time": "2021-02-13T12:54:39.137398",
     "exception": false,
     "start_time": "2021-02-13T12:54:39.115472",
     "status": "completed"
    },
    "tags": []
   },
   "outputs": [],
   "source": [
    "def seed_everything(seed):\n",
    "    random.seed(seed)\n",
    "    os.environ['PYTHONHASHSEED'] = str(seed)\n",
    "    np.random.seed(seed)\n",
    "    torch.manual_seed(seed)\n",
    "    torch.cuda.manual_seed(seed)\n",
    "    torch.backends.cudnn.deterministic = True\n",
    "    torch.backends.cudnn.benchmark = True\n",
    "\n",
    "def get_img(path):\n",
    "    im_bgr = cv2.imread(path)\n",
    "    im_rgb = im_bgr[:, :, ::-1]\n",
    "    return im_rgb"
   ]
  },
  {
   "cell_type": "markdown",
   "metadata": {
    "papermill": {
     "duration": 0.012559,
     "end_time": "2021-02-13T12:54:39.162895",
     "exception": false,
     "start_time": "2021-02-13T12:54:39.150336",
     "status": "completed"
    },
    "tags": []
   },
   "source": [
    "# DataSet for Loader"
   ]
  },
  {
   "cell_type": "code",
   "execution_count": 5,
   "metadata": {
    "execution": {
     "iopub.execute_input": "2021-02-13T12:54:39.197797Z",
     "iopub.status.busy": "2021-02-13T12:54:39.197124Z",
     "iopub.status.idle": "2021-02-13T12:54:39.199873Z",
     "shell.execute_reply": "2021-02-13T12:54:39.199446Z"
    },
    "papermill": {
     "duration": 0.024067,
     "end_time": "2021-02-13T12:54:39.199961",
     "exception": false,
     "start_time": "2021-02-13T12:54:39.175894",
     "status": "completed"
    },
    "tags": []
   },
   "outputs": [],
   "source": [
    "class CassavaDataset(Dataset):\n",
    "    def __init__(\n",
    "        self, df, data_root, transforms=None, output_label=True):\n",
    "        super().__init__()\n",
    "        self.df = df.reset_index(drop=True).copy()\n",
    "        self.transforms = transforms\n",
    "        self.data_root = data_root\n",
    "        self.output_label = output_label\n",
    "    \n",
    "    def __len__(self):\n",
    "        return self.df.shape[0]\n",
    "    \n",
    "    def __getitem__(self, index: int):\n",
    "        if self.output_label:\n",
    "            target = self.df.iloc[index]['label']\n",
    "        path = \"{}/{}\".format(self.data_root, self.df.iloc[index]['image_id'])\n",
    "        img  = get_img(path)\n",
    "        if self.transforms:\n",
    "            img = self.transforms(image=img)['image']\n",
    "        if self.output_label == True:\n",
    "            return img, target\n",
    "        else:\n",
    "            return img"
   ]
  },
  {
   "cell_type": "markdown",
   "metadata": {
    "papermill": {
     "duration": 0.012664,
     "end_time": "2021-02-13T12:54:39.225759",
     "exception": false,
     "start_time": "2021-02-13T12:54:39.213095",
     "status": "completed"
    },
    "tags": []
   },
   "source": [
    "# Data Augmentations"
   ]
  },
  {
   "cell_type": "code",
   "execution_count": 6,
   "metadata": {
    "execution": {
     "iopub.execute_input": "2021-02-13T12:54:39.265276Z",
     "iopub.status.busy": "2021-02-13T12:54:39.264702Z",
     "iopub.status.idle": "2021-02-13T12:54:39.868494Z",
     "shell.execute_reply": "2021-02-13T12:54:39.867406Z"
    },
    "papermill": {
     "duration": 0.629731,
     "end_time": "2021-02-13T12:54:39.868623",
     "exception": false,
     "start_time": "2021-02-13T12:54:39.238892",
     "status": "completed"
    },
    "tags": []
   },
   "outputs": [],
   "source": [
    "from albumentations import (\n",
    "    HorizontalFlip, VerticalFlip, IAAPerspective, ShiftScaleRotate, CLAHE, RandomRotate90,\n",
    "    Transpose, ShiftScaleRotate, Blur, OpticalDistortion, GridDistortion, HueSaturationValue,\n",
    "    IAAAdditiveGaussianNoise, GaussNoise, MotionBlur, MedianBlur, IAAPiecewiseAffine, RandomResizedCrop,\n",
    "    IAASharpen, IAAEmboss, RandomBrightnessContrast, Flip, OneOf, Compose, Normalize, Cutout, CoarseDropout, ShiftScaleRotate, CenterCrop, Resize)\n",
    "from albumentations.pytorch import ToTensorV2\n",
    "\n",
    "def get_inference_transforms():\n",
    "    return Compose([\n",
    "            RandomResizedCrop(CFG['img_size'], CFG['img_size']),\n",
    "            Transpose(p=0.5),\n",
    "            HorizontalFlip(p=0.5),\n",
    "            VerticalFlip(p=0.5),\n",
    "            HueSaturationValue(hue_shift_limit=0.2, sat_shift_limit=0.2, val_shift_limit=0.2, p=0.5),\n",
    "            RandomBrightnessContrast(brightness_limit=(-0.1,0.1), contrast_limit=(-0.1, 0.1), p=0.5),\n",
    "            Normalize(mean=[0.485, 0.456, 0.406], std=[0.229, 0.224, 0.225], max_pixel_value=255.0, p=1.0),\n",
    "            ToTensorV2(p=1.0),\n",
    "        ], p=1.)\n",
    "\n",
    "def get_inference_transforms_vit():\n",
    "    return Compose([\n",
    "            RandomResizedCrop(CFG['img_size'], CFG['img_size']),\n",
    "            Resize(384, 384),\n",
    "            Transpose(p=0.5),\n",
    "            HorizontalFlip(p=0.5),\n",
    "            VerticalFlip(p=0.5),\n",
    "            HueSaturationValue(hue_shift_limit=0.2, sat_shift_limit=0.2, val_shift_limit=0.2, p=0.5),\n",
    "            RandomBrightnessContrast(brightness_limit=(-0.1,0.1), contrast_limit=(-0.1, 0.1), p=0.5),\n",
    "            Normalize(mean=[0.485, 0.456, 0.406], std=[0.229, 0.224, 0.225], max_pixel_value=255.0, p=1.0),\n",
    "            ToTensorV2(p=1.0),\n",
    "        ], p=1.)"
   ]
  },
  {
   "cell_type": "markdown",
   "metadata": {
    "papermill": {
     "duration": 0.013181,
     "end_time": "2021-02-13T12:54:39.895494",
     "exception": false,
     "start_time": "2021-02-13T12:54:39.882313",
     "status": "completed"
    },
    "tags": []
   },
   "source": [
    "# Create Model"
   ]
  },
  {
   "cell_type": "code",
   "execution_count": 7,
   "metadata": {
    "execution": {
     "iopub.execute_input": "2021-02-13T12:54:39.933132Z",
     "iopub.status.busy": "2021-02-13T12:54:39.932337Z",
     "iopub.status.idle": "2021-02-13T12:54:39.934603Z",
     "shell.execute_reply": "2021-02-13T12:54:39.935097Z"
    },
    "papermill": {
     "duration": 0.026614,
     "end_time": "2021-02-13T12:54:39.935197",
     "exception": false,
     "start_time": "2021-02-13T12:54:39.908583",
     "status": "completed"
    },
    "tags": []
   },
   "outputs": [],
   "source": [
    "class EnsembleModel(nn.Module):\n",
    "    def __init__(self, model_arch, n_class, pretrained=False):\n",
    "        super().__init__()\n",
    "        self.model = timm.create_model(model_arch, pretrained=pretrained)\n",
    "        if model_arch == 'tf_efficientnet_b4_ns':\n",
    "            n_features = self.model.classifier.in_features\n",
    "            self.model.classifier = nn.Linear(n_features, n_class)\n",
    "        if model_arch == 'resnext50_32x4d':\n",
    "            n_features = self.model.fc.in_features\n",
    "            self.model.fc = nn.Linear(n_features, n_class)\n",
    "        if model_arch == 'vit_base_patch16_384':\n",
    "            n_features = self.model.head.in_features\n",
    "            self.model.head = nn.Linear(n_features, n_class)\n",
    "        \n",
    "    def forward(self, x):\n",
    "        x = self.model(x)\n",
    "        return x"
   ]
  },
  {
   "cell_type": "markdown",
   "metadata": {
    "papermill": {
     "duration": 0.013252,
     "end_time": "2021-02-13T12:54:39.962580",
     "exception": false,
     "start_time": "2021-02-13T12:54:39.949328",
     "status": "completed"
    },
    "tags": []
   },
   "source": [
    "# Inference Function"
   ]
  },
  {
   "cell_type": "code",
   "execution_count": 8,
   "metadata": {
    "execution": {
     "iopub.execute_input": "2021-02-13T12:54:39.995077Z",
     "iopub.status.busy": "2021-02-13T12:54:39.994181Z",
     "iopub.status.idle": "2021-02-13T12:54:39.998787Z",
     "shell.execute_reply": "2021-02-13T12:54:39.998296Z"
    },
    "papermill": {
     "duration": 0.022161,
     "end_time": "2021-02-13T12:54:39.998871",
     "exception": false,
     "start_time": "2021-02-13T12:54:39.976710",
     "status": "completed"
    },
    "tags": []
   },
   "outputs": [
    {
     "data": {
      "text/plain": [
       "['tf_efficientnet_b4_ns', 'resnext50_32x4d', 'vit_base_patch16_384']"
      ]
     },
     "execution_count": 8,
     "metadata": {},
     "output_type": "execute_result"
    }
   ],
   "source": [
    "CFG['model_arch']"
   ]
  },
  {
   "cell_type": "code",
   "execution_count": 9,
   "metadata": {
    "execution": {
     "iopub.execute_input": "2021-02-13T12:54:40.031984Z",
     "iopub.status.busy": "2021-02-13T12:54:40.031182Z",
     "iopub.status.idle": "2021-02-13T12:54:40.034446Z",
     "shell.execute_reply": "2021-02-13T12:54:40.034939Z"
    },
    "papermill": {
     "duration": 0.021663,
     "end_time": "2021-02-13T12:54:40.035033",
     "exception": false,
     "start_time": "2021-02-13T12:54:40.013370",
     "status": "completed"
    },
    "tags": []
   },
   "outputs": [
    {
     "data": {
      "text/plain": [
       "['EFN_fold_4_epoch_4',\n",
       " 'EFN_fold_5_epoch_5',\n",
       " 'resnext_fold_1_epoch_8',\n",
       " 'resnext_fold_3_epoch_8',\n",
       " 'vit_fold_3_epoch_5',\n",
       " 'vit_fold_4_epoch_7']"
      ]
     },
     "execution_count": 9,
     "metadata": {},
     "output_type": "execute_result"
    }
   ],
   "source": [
    "CFG['weight_path']"
   ]
  },
  {
   "cell_type": "code",
   "execution_count": 10,
   "metadata": {
    "execution": {
     "iopub.execute_input": "2021-02-13T12:54:40.070779Z",
     "iopub.status.busy": "2021-02-13T12:54:40.070044Z",
     "iopub.status.idle": "2021-02-13T12:54:40.072298Z",
     "shell.execute_reply": "2021-02-13T12:54:40.072804Z"
    },
    "papermill": {
     "duration": 0.023523,
     "end_time": "2021-02-13T12:54:40.072897",
     "exception": false,
     "start_time": "2021-02-13T12:54:40.049374",
     "status": "completed"
    },
    "tags": []
   },
   "outputs": [],
   "source": [
    "def inference_one_epoch(model, data_loader, device):\n",
    "    model.eval()\n",
    "    image_preds_all = []\n",
    "    pbar = tqdm(enumerate(data_loader), total=len(data_loader))\n",
    "    for step, (imgs) in pbar:\n",
    "        imgs = imgs.to(device).float()\n",
    "        image_preds = model(imgs)\n",
    "        image_preds_all += [torch.softmax(image_preds, 1).detach().cpu().numpy()]\n",
    "    image_preds_all = np.concatenate(image_preds_all, axis=0)\n",
    "    return image_preds_all"
   ]
  },
  {
   "cell_type": "markdown",
   "metadata": {
    "papermill": {
     "duration": 0.014027,
     "end_time": "2021-02-13T12:54:40.100818",
     "exception": false,
     "start_time": "2021-02-13T12:54:40.086791",
     "status": "completed"
    },
    "tags": []
   },
   "source": [
    "# Main - Inference"
   ]
  },
  {
   "cell_type": "code",
   "execution_count": 11,
   "metadata": {
    "execution": {
     "iopub.execute_input": "2021-02-13T12:54:40.142679Z",
     "iopub.status.busy": "2021-02-13T12:54:40.142002Z",
     "iopub.status.idle": "2021-02-13T12:55:20.213917Z",
     "shell.execute_reply": "2021-02-13T12:55:20.214555Z"
    },
    "papermill": {
     "duration": 40.099644,
     "end_time": "2021-02-13T12:55:20.214740",
     "exception": false,
     "start_time": "2021-02-13T12:54:40.115096",
     "status": "completed"
    },
    "tags": []
   },
   "outputs": [
    {
     "name": "stderr",
     "output_type": "stream",
     "text": [
      "100%|██████████| 1/1 [00:01<00:00,  1.27s/it]\n",
      "100%|██████████| 1/1 [00:00<00:00,  9.23it/s]\n",
      "100%|██████████| 1/1 [00:00<00:00,  9.10it/s]\n",
      "100%|██████████| 1/1 [00:00<00:00,  8.11it/s]\n",
      "100%|██████████| 1/1 [00:02<00:00,  2.35s/it]\n",
      "100%|██████████| 1/1 [00:00<00:00,  9.16it/s]\n",
      "100%|██████████| 1/1 [00:00<00:00,  8.47it/s]\n",
      "100%|██████████| 1/1 [00:00<00:00,  8.79it/s]\n",
      "100%|██████████| 1/1 [00:00<00:00,  5.57it/s]\n",
      "100%|██████████| 1/1 [00:00<00:00,  8.94it/s]\n",
      "100%|██████████| 1/1 [00:00<00:00,  8.82it/s]\n",
      "100%|██████████| 1/1 [00:00<00:00,  9.33it/s]\n"
     ]
    }
   ],
   "source": [
    "if __name__ == '__main__':\n",
    "    seed_everything(CFG['seed'])\n",
    "    for ix, model_arch in enumerate(CFG['model_arch']):\n",
    "        TEST_DIR = '../input/cassava-leaf-disease-classification/test_images/'\n",
    "        test = pd.DataFrame(); test['image_id'] = list(os.listdir(TEST_DIR))\n",
    "        if model_arch=='vit_base_patch16_384':\n",
    "            testset= CassavaDataset(test, TEST_DIR, transforms=get_inference_transforms_vit(), output_label=False)\n",
    "        else: \n",
    "            testset= CassavaDataset(test, TEST_DIR, transforms=get_inference_transforms(), output_label=False)\n",
    "        tst_loader = DataLoader(testset, batch_size=CFG['valid_bs'],num_workers=CFG['num_workers'],shuffle=False,pin_memory=False,)\n",
    "        \n",
    "        device = torch.device(CFG['device'])\n",
    "        model = EnsembleModel(model_arch, train.label.nunique()).to(device)\n",
    "        tst_preds = []\n",
    "        for i,weight in enumerate(CFG['weight_path'][ix*2:ix*2+2]):    \n",
    "            model.load_state_dict(torch.load(os.path.join('../input/cassava-ensemble-model',weight))['model'])\n",
    "            with torch.no_grad():\n",
    "                for _ in range(CFG['tta']):\n",
    "                    tst_preds += [CFG['weights'][i]/sum(CFG['weights'])/CFG['tta']*inference_one_epoch(model, tst_loader, device)]\n",
    "        avg_tst_preds = np.mean(tst_preds, axis=0)\n",
    "\n",
    "        if not (os.path.isdir('./total_preds')): os.mkdir('./total_preds')\n",
    "        np.save('./total_preds/total_preds.npy', tst_preds)\n",
    "        if not (os.path.isdir('./mean_preds')): os.mkdir('./mean_preds')\n",
    "        np.save('./mean_preds/mean_preds.npy', avg_tst_preds)\n",
    "\n",
    "        del model\n",
    "        torch.cuda.empty_cache()"
   ]
  },
  {
   "cell_type": "markdown",
   "metadata": {
    "papermill": {
     "duration": 0.024421,
     "end_time": "2021-02-13T12:55:20.265042",
     "exception": false,
     "start_time": "2021-02-13T12:55:20.240621",
     "status": "completed"
    },
    "tags": []
   },
   "source": [
    "# Make Submission File"
   ]
  },
  {
   "cell_type": "code",
   "execution_count": 12,
   "metadata": {
    "execution": {
     "iopub.execute_input": "2021-02-13T12:55:20.320112Z",
     "iopub.status.busy": "2021-02-13T12:55:20.319616Z",
     "iopub.status.idle": "2021-02-13T12:55:20.558879Z",
     "shell.execute_reply": "2021-02-13T12:55:20.558438Z"
    },
    "papermill": {
     "duration": 0.269431,
     "end_time": "2021-02-13T12:55:20.558977",
     "exception": false,
     "start_time": "2021-02-13T12:55:20.289546",
     "status": "completed"
    },
    "tags": []
   },
   "outputs": [
    {
     "data": {
      "text/html": [
       "<div>\n",
       "<style scoped>\n",
       "    .dataframe tbody tr th:only-of-type {\n",
       "        vertical-align: middle;\n",
       "    }\n",
       "\n",
       "    .dataframe tbody tr th {\n",
       "        vertical-align: top;\n",
       "    }\n",
       "\n",
       "    .dataframe thead th {\n",
       "        text-align: right;\n",
       "    }\n",
       "</style>\n",
       "<table border=\"1\" class=\"dataframe\">\n",
       "  <thead>\n",
       "    <tr style=\"text-align: right;\">\n",
       "      <th></th>\n",
       "      <th>image_id</th>\n",
       "      <th>label</th>\n",
       "    </tr>\n",
       "  </thead>\n",
       "  <tbody>\n",
       "    <tr>\n",
       "      <th>0</th>\n",
       "      <td>2216849948.jpg</td>\n",
       "      <td>4</td>\n",
       "    </tr>\n",
       "  </tbody>\n",
       "</table>\n",
       "</div>"
      ],
      "text/plain": [
       "         image_id  label\n",
       "0  2216849948.jpg      4"
      ]
     },
     "execution_count": 12,
     "metadata": {},
     "output_type": "execute_result"
    }
   ],
   "source": [
    "test['label'] = np.argmax(avg_tst_preds, axis=1)\n",
    "test.to_csv('submission.csv', index=False)\n",
    "test.head()"
   ]
  }
 ],
 "metadata": {
  "kernelspec": {
   "display_name": "Python 3",
   "language": "python",
   "name": "python3"
  },
  "language_info": {
   "codemirror_mode": {
    "name": "ipython",
    "version": 3
   },
   "file_extension": ".py",
   "mimetype": "text/x-python",
   "name": "python",
   "nbconvert_exporter": "python",
   "pygments_lexer": "ipython3",
   "version": "3.7.6"
  },
  "papermill": {
   "duration": 77.799239,
   "end_time": "2021-02-13T12:55:21.746579",
   "environment_variables": {},
   "exception": null,
   "input_path": "__notebook__.ipynb",
   "output_path": "__notebook__.ipynb",
   "parameters": {},
   "start_time": "2021-02-13T12:54:03.947340",
   "version": "2.1.0"
  }
 },
 "nbformat": 4,
 "nbformat_minor": 4
}
